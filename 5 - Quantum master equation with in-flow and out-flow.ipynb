{
 "cells": [
  {
   "cell_type": "markdown",
   "id": "194669c9",
   "metadata": {},
   "source": [
    "## 5. Решение квантового основного уравнения для случая одновременных притока и утечки фотонов из оптической полости\n",
    "\n",
    "<b>Задача.</b>\n",
    "<em>Рассчитать динамику для фотонов в оптической полости. Есть приток фотонов с коэффициентом $\\gamma_{+}$, есть отток с коэффициентом $\\gamma_{-}$.\n",
    "    \n",
    "- Исследовать динамику при разных $\\gamma$, при каких значениях этих параметров произойдет стабилизация матрицы плотности?\n",
    "\n",
    "- Решить эту же задачу для одного атома в полости.\n",
    "\n",
    "</em>"
   ]
  },
  {
   "cell_type": "markdown",
   "id": "a884b278",
   "metadata": {},
   "source": [
    "### 1. Оптическая полость с фотонами, без атома.\n",
    "\n",
    "Гамильтониан в случае отсутствия атомов особенно прост:\n",
    "\n",
    "$$H = \\hbar \\omega a^\\dagger a$$\n",
    "\n",
    "Очевидно, что диагональные матричные элементы $H$ будут просто равны числу фотонов в базисном состоянии. Выпишем аналитические формулы для матричных элементов $A_+ = a^\\dagger$ и $A_- = a$:\n",
    "\n",
    "$$<n|a^\\dagger|n'> = \\sqrt{n} \\delta_{n,n'+1}$$\n",
    "\n",
    "$$<n|a|n'> = \\sqrt{n+1} \\delta_{n,n'-1}$$"
   ]
  },
  {
   "cell_type": "code",
   "execution_count": 1,
   "id": "a7ca8a73",
   "metadata": {},
   "outputs": [],
   "source": [
    "from math import *\n",
    "import numpy as np\n",
    "import numpy.linalg as linalg\n",
    "import matplotlib.pyplot as plt\n",
    "\n",
    "def kron_delta(i,j):\n",
    "    if i == j:\n",
    "        return 1\n",
    "    else:\n",
    "        return 0"
   ]
  },
  {
   "cell_type": "code",
   "execution_count": 2,
   "id": "4f98600c",
   "metadata": {},
   "outputs": [],
   "source": [
    "def runge_kutta_4(t,dim,fun,rho_0):\n",
    "\n",
    "    npoints = len(t)\n",
    "    rho_list = np.zeros((npoints, dim, dim), dtype=np.cdouble)\n",
    "    rho = np.array(rho_0,dtype=np.cdouble)\n",
    "    rho_list[0,:,:] = rho\n",
    "    \n",
    "    for i in range(1,npoints):\n",
    "\n",
    "        h = t[i] - t[i-1]\n",
    "\n",
    "        # Runge-Kutta\n",
    "        k1 = fun(rho)\n",
    "        k2 = fun(rho + 0.5*h*k1)\n",
    "        k3 = fun(rho + 0.5*h*k2)\n",
    "        k4 = fun(rho + h*k3)\n",
    "        rho = rho + 1.0/6.0 * h * (k1 + 2*k2 + 2*k3 + k4)\n",
    "\n",
    "        rho_list[i,:,:] = rho\n",
    "    \n",
    "    return rho_list\n",
    "\n",
    "def plot_density_diagonal(t, rho_list, basis_labels, nprint):\n",
    "    dim = rho_list[0].shape[0]\n",
    "    for i in range(0,nprint+1):\n",
    "        plt.plot(t, abs(rho_list[:,i,i]), label=basis_labels[i])\n",
    "    plt.legend(loc='upper right')\n",
    "    plt.xlabel('t')\n",
    "    plt.ylabel('density, n')\n",
    "    plt.show()"
   ]
  },
  {
   "cell_type": "code",
   "execution_count": 3,
   "id": "9081f8c7",
   "metadata": {
    "scrolled": false
   },
   "outputs": [
    {
     "data": {
      "image/png": "[encoded data removed]",
      "text/plain": [
       "<Figure size 432x288 with 1 Axes>"
      ]
     },
     "metadata": {
      "needs_background": "light"
     },
     "output_type": "display_data"
    },
    {
     "name": "stdout",
     "output_type": "stream",
     "text": [
      "ratio in/out = 0.4000\n",
      "|n>    rho[n,n]       ratio\n",
      "  0      0.6000      0.0000\n",
      "  1      0.2400      0.4000\n",
      "  2      0.0960      0.4000\n",
      "  3      0.0384      0.4000\n",
      "  4      0.0154      0.4000\n",
      "  5      0.0061      0.4000\n",
      "  6      0.0025      0.4000\n",
      "  7      0.0010      0.4000\n",
      "  8      0.0004      0.4000\n",
      "  9      0.0002      0.4000\n",
      " 10      0.0001      0.4000\n"
     ]
    }
   ],
   "source": [
    "nmax = 10\n",
    "basis_dim = nmax + 1\n",
    "gamma_in = 0.002\n",
    "gamma_out = 0.005\n",
    "\n",
    "basis_labels = ['|%d>' % i for i in range(0,nmax+1)]\n",
    "\n",
    "H = np.zeros((basis_dim,basis_dim))\n",
    "A_in = np.zeros((basis_dim,basis_dim))\n",
    "A_out = np.zeros((basis_dim,basis_dim))\n",
    "\n",
    "for n in range(0,nmax+1):\n",
    "    for m in range(0,nmax+1):\n",
    "        H[n,m] = n * kron_delta(n, m)\n",
    "        A_in[n,m] = sqrt(n) * kron_delta(n,m+1)\n",
    "        A_out[n,m] = sqrt(n+1) * kron_delta(n,m-1)\n",
    "\n",
    "def lindblad(gamma, A, rho):\n",
    "    Aconj = np.transpose(A)\n",
    "    AconjA = np.matmul(Aconj, A)\n",
    "    return gamma * (np.matmul(A, np.matmul(rho, Aconj)) - 0.5 * (np.matmul(AconjA, rho) + np.matmul(rho, AconjA)))\n",
    "\n",
    "def fun_inout_flow(rho):\n",
    "    L_in = lindblad(gamma_in, A_in, rho)\n",
    "    L_out = lindblad(gamma_out, A_out, rho)\n",
    "    return (-1j)*(np.matmul(H, rho) - np.matmul(rho,H)) + L_in + L_out\n",
    "\n",
    "# initial guess: vacuum state |0>\n",
    "rho_0 = np.zeros((basis_dim,basis_dim))\n",
    "rho_0[1,1] = 1\n",
    "\n",
    "# dynamics\n",
    "t = np.linspace(0,3000,3001)\n",
    "rho_list = runge_kutta_4(t, basis_dim, fun_inout_flow, rho_0)\n",
    "\n",
    "# plot results\n",
    "plot_density_diagonal(t, rho_list, basis_labels, 4)\n",
    "\n",
    "print('ratio in/out = %.4f' % (gamma_in/gamma_out))\n",
    "print('%3s%12s%12s' % ('|n>', 'rho[n,n]', 'ratio'))\n",
    "for i in range(0,nmax+1):\n",
    "    rho_ii = abs(rho_list[-1][i,i])\n",
    "    print('%3d%12.4f%12.4f' % (i, rho_ii, rho_ii/abs(rho_list[-1][i-1,i-1]) if i != 0 else 0))"
   ]
  },
  {
   "cell_type": "markdown",
   "id": "4d8d7c27",
   "metadata": {},
   "source": [
    "Получившийся результат означает, что при $t \\rightarrow \\infty$ достигается соотношение заселенностей базисных состояний\n",
    "\n",
    "$$\\frac{\\rho_{nn}}{\\rho_{n-1,n-1}} \\rightarrow \\frac{\\gamma_+}{\\gamma_-}$$\n",
    "\n",
    "### 2. Один атом в полости\n",
    "\n",
    "Теперь повторим численный эксперимент, поместив в полость один атом. Коль скоро система у нас открытая, логично воспользоваться точным гамильтонианом Джейнса-Каммингса. Ограничим базисные состояния наперед заданной энергией $E_{max} = n_{max} \\hbar \\omega$."
   ]
  },
  {
   "cell_type": "code",
   "execution_count": 4,
   "id": "ddc0fac0",
   "metadata": {},
   "outputs": [
    {
     "name": "stdout",
     "output_type": "stream",
     "text": [
      "basis states:\n",
      "  0 |0,0>\n",
      "  1 |0,1>\n",
      "  2 |1,0>\n",
      "  3 |1,1>\n",
      "  4 |2,0>\n"
     ]
    }
   ],
   "source": [
    "nmax = 2\n",
    "basis_states = []\n",
    "for n in range(0,nmax+1):\n",
    "    for m in range(0,2):\n",
    "        if n+m <= nmax:\n",
    "            basis_states.append((n,m))\n",
    "basis_dim = len(basis_states)\n",
    "basis_labels = ['|%d,%d>' % (state[0],state[1]) for state in basis_states]\n",
    "print('basis states:')\n",
    "for i,state in enumerate(basis_labels):\n",
    "    print('%3d' % i, state)"
   ]
  },
  {
   "cell_type": "code",
   "execution_count": 5,
   "id": "67da5759",
   "metadata": {},
   "outputs": [],
   "source": [
    "g = 0.005\n",
    "\n",
    "H = np.zeros((basis_dim,basis_dim))\n",
    "A_in = np.zeros((basis_dim,basis_dim))\n",
    "A_out = np.zeros((basis_dim,basis_dim))\n",
    "\n",
    "for i,state1 in enumerate(basis_states):\n",
    "    for j,state2 in enumerate(basis_states):\n",
    "        n1 = state1[0]\n",
    "        m1 = state1[1]\n",
    "        n2 = state2[0]\n",
    "        m2 = state2[1]\n",
    "        \n",
    "        # Hamiltonian matrix elements\n",
    "        self_photon = n1 * kron_delta(n1,n2) * kron_delta(m1,m2)\n",
    "        self_atom = kron_delta(m1,1) * kron_delta(n1,n2) * kron_delta(m1,m2)\n",
    "        int_deexc = g * sqrt(n1) * kron_delta(n1,n2+1) * kron_delta(m1,0) * kron_delta(m2,1)\n",
    "        int_exc = g * sqrt(n1+1) * kron_delta(n1,n2-1) * kron_delta(m1,1) * kron_delta(m2,0)\n",
    "        v1 = g * sqrt(n1+1) * kron_delta(n1,n2-1) * kron_delta(m1,0) * kron_delta(m2,1)\n",
    "        v2 = g * sqrt(n1) * kron_delta(n1,n2+1) * kron_delta(m1,1) * kron_delta(m2,0)\n",
    "        H[i,j] = self_photon + self_atom + int_deexc + int_exc + v1 + v2\n",
    "        \n",
    "        # Annihilation operator (a) matrix elements\n",
    "        A_in[i,j] = sqrt(n1) * kron_delta(n1,n2+1) * kron_delta(m1,m2)\n",
    "        \n",
    "        # Creation operator (a+) matrix elements\n",
    "        A_out[i,j] = sqrt(n1+1) * kron_delta(n1,n2-1) * kron_delta(m1,m2)"
   ]
  },
  {
   "cell_type": "code",
   "execution_count": 6,
   "id": "f1cdd6b8",
   "metadata": {
    "scrolled": false
   },
   "outputs": [
    {
     "data": {
      "image/png": "[encoded data removed]",
      "text/plain": [
       "<Figure size 432x288 with 1 Axes>"
      ]
     },
     "metadata": {
      "needs_background": "light"
     },
     "output_type": "display_data"
    },
    {
     "name": "stdout",
     "output_type": "stream",
     "text": [
      "ratio in/out = 0.4000\n",
      "|n>    rho[n,n]       ratio\n",
      "| 0 0>       0.4717      0.0000\n",
      "| 0 1>       0.1886      0.3999\n",
      "| 1 0>       0.1887      1.0005\n",
      "| 1 1>       0.0755      0.3999\n",
      "| 2 0>       0.0755      1.0003\n"
     ]
    }
   ],
   "source": [
    "# initial guess: vacuum state |0>\n",
    "rho_0 = np.zeros((basis_dim,basis_dim))\n",
    "rho_0[0,0] = 1\n",
    "\n",
    "# dynamics\n",
    "t = np.linspace(0,3000,10001)\n",
    "rho_list = runge_kutta_4(t, basis_dim, fun_inout_flow, rho_0)\n",
    "\n",
    "# plot results\n",
    "plot_density_diagonal(t, rho_list, basis_labels, nprint=4)\n",
    "\n",
    "print('ratio in/out = %.4f' % (gamma_in/gamma_out))\n",
    "print('%3s%12s%12s' % ('|n>', 'rho[n,n]', 'ratio'))\n",
    "for i in range(0,basis_dim):\n",
    "    rho_ii = abs(rho_list[-1][i,i])\n",
    "    print('|%2d%2d> %12.4f%12.4f' % (basis_states[i][0], basis_states[i][1], rho_ii, rho_ii/abs(rho_list[-1][i-1,i-1]) if i != 0 else 0))"
   ]
  },
  {
   "cell_type": "markdown",
   "id": "3ec3ef38",
   "metadata": {},
   "source": [
    "### Два атома в полости\n",
    "\n",
    "Для описания динамики системы с двумя атомами воспользуемся точным гамильтонианом Тависа-Каммингса:\n",
    "\n",
    "$$H = \\hbar \\omega a^\\dagger a + \\hbar \\omega (\\sigma_1^\\dagger \\sigma_1 + \\sigma_2^\\dagger \\sigma_2) + g(a^\\dagger + a)(\\sigma^\\dagger_1 + \\sigma^\\dagger_2 + \\sigma_1 + \\sigma_2)$$\n",
    "\n",
    "Базисные функции должны иметь вид $|n,m_1m_2>$.\n",
    "\n",
    "В ходе вычисления матрицы H нам придется встретиться со следующими матричными элементами:\n",
    "\n",
    "- $<n,m_1m_2|a^\\dagger a|n',m'_1m'_2> = n\\ \\delta_{nn'}\\delta_{m_1m'_1}\\delta_{m_2m'_2}$\n",
    "\n",
    "- $<n,m_1m_2|\\sigma_1^\\dagger \\sigma_1+\\sigma_2^\\dagger \\sigma_2|n',m'_1m'_2> = (m_1+m_2)\\ \\delta_{nn'}\\delta_{m_1m'_1}\\delta_{m_2m'_2}$\n",
    "\n",
    "- $<n,m_1m_2|a^\\dagger (\\sigma_1+\\sigma_2)|n',m'_1m'_2> = <n|a^\\dagger|n'><m_1m_2|\\sigma_1+\\sigma_2|m'_1m'_2>$\n",
    "\n",
    "- $<n,m_1m_2|a (\\sigma^\\dagger_1+\\sigma^\\dagger_2)|n',m'_1m'_2> = <n|a|n'><m_1m_2|\\sigma^\\dagger_1+\\sigma^\\dagger_2|m'_1m'_2>$\n",
    "\n",
    "- $<n,m_1m_2|a^\\dagger (\\sigma^\\dagger_1+\\sigma^\\dagger_2)|n',m'_1m'_2> = <n|a^\\dagger|n'><m_1m_2|\\sigma^\\dagger_1+\\sigma^\\dagger_2|m'_1m'_2>$\n",
    "\n",
    "- $<n,m_1m_2|a (\\sigma_1+\\sigma_2)|n',m'_1m'_2> = <n|a|n'><m_1m_2|\\sigma_1+\\sigma_2|m'_1m'_2>$\n",
    "\n",
    "- $<m_1m_2|\\sigma_1|m'_1m'_2> = \\delta_{m_2,m'_2} \\delta_{m_1,0} \\delta_{m'_1,1}$\n",
    "\n",
    "- $<m_1m_2|\\sigma^\\dagger_1|m'_1m'_2> = \\delta_{m_2,m'_2} \\delta_{m_1,1} \\delta_{m'_1,0}$\n",
    "\n",
    "- $<n|a^\\dagger|n'> = \\sqrt{n}\\ \\delta_{n,n'+1}$\n",
    "\n",
    "- $<n|a|n'> = \\sqrt{n+1}\\ \\delta_{n,n'-1}$"
   ]
  },
  {
   "cell_type": "code",
   "execution_count": 7,
   "id": "28e14a2e",
   "metadata": {},
   "outputs": [
    {
     "name": "stdout",
     "output_type": "stream",
     "text": [
      "|0,00>\n",
      "|0,01>\n",
      "|0,10>\n",
      "|0,11>\n",
      "|1,00>\n",
      "|1,01>\n",
      "|1,10>\n",
      "|1,11>\n",
      "|2,00>\n",
      "|2,01>\n",
      "|2,10>\n",
      "|2,11>\n",
      "|3,00>\n",
      "|3,01>\n",
      "|3,10>\n",
      "|3,11>\n",
      "|4,00>\n",
      "|4,01>\n",
      "|4,10>\n",
      "|4,11>\n",
      "|5,00>\n",
      "|5,01>\n",
      "|5,10>\n",
      "|6,00>\n"
     ]
    }
   ],
   "source": [
    "# setup basis\n",
    "def generate_basis_states(e_max):\n",
    "    basis_states = []\n",
    "    for n in range(0,e_max+1):\n",
    "        for m1 in range(0,2):\n",
    "            for m2 in range(0,2):\n",
    "                if n+m1+m2 <= e_max:\n",
    "                    basis_states.append((n,m1,m2))\n",
    "    return basis_states\n",
    "\n",
    "n_max = 6\n",
    "basis_states = generate_basis_states(n_max)\n",
    "basis_labels = ['|%d,%d%d>' % state for state in basis_states]\n",
    "basis_dim = len(basis_states)\n",
    "\n",
    "for label in basis_labels:\n",
    "    print(label)"
   ]
  },
  {
   "cell_type": "code",
   "execution_count": 8,
   "id": "946d6cf9",
   "metadata": {},
   "outputs": [],
   "source": [
    "# construct Hamiltonian and A+, A matrices\n",
    "delta = kron_delta\n",
    "\n",
    "H = np.zeros((basis_dim, basis_dim))\n",
    "for i,state1 in enumerate(basis_states):\n",
    "    for j,state2 in enumerate(basis_states):\n",
    "        n_1, m1_1, m2_1 = state1\n",
    "        n_2, m1_2, m2_2 = state2\n",
    "\n",
    "        # diagonal:\n",
    "        H[i,j] = (n_1 + m1_1 + m2_1) * delta(n_1,n_2) * delta(m1_1,m1_2) * delta(m2_1,m2_2)\n",
    "        \n",
    "        # off-diagonal:\n",
    "        \n",
    "        # a+ sigma1\n",
    "        H[i,j] += g * sqrt(n_1) * delta(n_1,n_2+1) * delta(m2_1,m2_2) * delta(m1_1,0) * delta(m1_2,1)\n",
    "        # a+ sigma2\n",
    "        H[i,j] += g * sqrt(n_1) * delta(n_1,n_2+1) * delta(m1_1,m1_2) * delta(m2_1,0) * delta(m2_2,1)\n",
    "        # a+ sigma1+\n",
    "        H[i,j] += g * sqrt(n_1) * delta(n_1,n_2+1) * delta(m2_1,m2_2) * delta(m1_1,1) * delta(m1_2,0)\n",
    "        # a+ sigma2+\n",
    "        H[i,j] += g * sqrt(n_1) * delta(n_1,n_2+1) * delta(m1_1,m1_2) * delta(m2_1,1) * delta(m2_2,0)\n",
    "\n",
    "        # a sigma1\n",
    "        H[i,j] += g * sqrt(n_1+1) * delta(n_1,n_2-1) * delta(m2_1,m2_2) * delta(m1_1,0) * delta(m1_2,1)\n",
    "        # a sigma2\n",
    "        H[i,j] += g * sqrt(n_1+1) * delta(n_1,n_2-1) * delta(m1_1,m1_2) * delta(m2_1,0) * delta(m2_2,1)\n",
    "        # a sigma1+\n",
    "        H[i,j] += g * sqrt(n_1+1) * delta(n_1,n_2-1) * delta(m2_1,m2_2) * delta(m1_1,1) * delta(m1_2,0)\n",
    "        # a sigma2+\n",
    "        H[i,j] += g * sqrt(n_1+1) * delta(n_1,n_2-1) * delta(m1_1,m1_2) * delta(m2_1,1) * delta(m2_2,0)\n",
    "\n",
    "A_in = np.zeros((basis_dim, basis_dim))\n",
    "A_out = np.zeros((basis_dim, basis_dim))\n",
    "for i,state1 in enumerate(basis_states):\n",
    "    for j,state2 in enumerate(basis_states):\n",
    "        n_1, m1_1, m2_1 = state1\n",
    "        n_2, m1_2, m2_2 = state2\n",
    "        A_in[i,j] = sqrt(n_1) * delta(n_1,n_2+1) * delta(m1_1, m1_2) * delta(m2_1, m2_2)\n",
    "        A_out[i,j] = sqrt(n_1+1) * delta(n_1,n_2-1) * delta(m1_1, m1_2) * delta(m2_1, m2_2)"
   ]
  },
  {
   "cell_type": "markdown",
   "id": "aac783d4",
   "metadata": {},
   "source": [
    "В качестве начального состояния возьмем:\n",
    "\n",
    "$$ \\frac{1}{\\sqrt{3}} (|0,00>+|0,01>-|0,10>) $$"
   ]
  },
  {
   "cell_type": "code",
   "execution_count": 9,
   "id": "c64fe7bb",
   "metadata": {},
   "outputs": [],
   "source": [
    "rho_0 = np.zeros((basis_dim,basis_dim))\n",
    "\n",
    "#actual order of basis states: |0,00>, |0,01>, |0,10>\n",
    "\n",
    "rho_0[0,0] = +1/3.\n",
    "rho_0[1,1] = +1/3.\n",
    "rho_0[2,2] = +1/3.\n",
    "\n",
    "rho_0[0,1] = +1/3.\n",
    "rho_0[0,2] = -1/3.\n",
    "rho_0[1,2] = -1/3.\n",
    "\n",
    "rho_0[1,0] = +1/3.\n",
    "rho_0[2,0] = -1/3.\n",
    "rho_0[2,1] = -1/3."
   ]
  },
  {
   "cell_type": "code",
   "execution_count": 10,
   "id": "d0198872",
   "metadata": {},
   "outputs": [
    {
     "data": {
      "image/png": "[encoded data removed]",
      "text/plain": [
       "<Figure size 432x288 with 1 Axes>"
      ]
     },
     "metadata": {
      "needs_background": "light"
     },
     "output_type": "display_data"
    },
    {
     "name": "stdout",
     "output_type": "stream",
     "text": [
      "ratio in/out = 0.4000\n",
      "|n>    rho[n,n]       ratio\n",
      "|0,00>       0.1310      0.0000\n",
      "|0,01>       0.2267      1.7302\n",
      "|0,10>       0.2267      1.0000\n",
      "|0,11>       0.0200      0.0884\n",
      "|1,00>       0.0515      2.5680\n",
      "|1,01>       0.0905      1.7581\n",
      "|1,10>       0.0905      1.0000\n",
      "|1,11>       0.0080      0.0880\n",
      "|2,00>       0.0202      2.5414\n",
      "|2,01>       0.0361      1.7849\n",
      "|2,10>       0.0361      1.0000\n",
      "|2,11>       0.0032      0.0876\n",
      "|3,00>       0.0080      2.5255\n",
      "|3,01>       0.0144      1.8060\n",
      "|3,10>       0.0144      1.0000\n",
      "|3,11>       0.0013      0.0872\n",
      "|4,00>       0.0032      2.5157\n",
      "|4,01>       0.0058      1.8218\n",
      "|4,10>       0.0058      1.0000\n",
      "|4,11>       0.0005      0.0869\n",
      "|5,00>       0.0013      2.5074\n",
      "|5,01>       0.0023      1.8335\n",
      "|5,10>       0.0023      1.0000\n",
      "|6,00>       0.0005      0.2173\n"
     ]
    }
   ],
   "source": [
    "# dynamics\n",
    "t = np.linspace(0,2000,10001)\n",
    "rho_list = runge_kutta_4(t, basis_dim, fun_inout_flow, rho_0)\n",
    "\n",
    "# plot results\n",
    "plot_density_diagonal(t, rho_list, basis_labels, nprint=10)\n",
    "\n",
    "print('ratio in/out = %.4f' % (gamma_in/gamma_out))\n",
    "print('%3s%12s%12s' % ('|n>', 'rho[n,n]', 'ratio'))\n",
    "for i in range(0,basis_dim):\n",
    "    rho_ii = abs(rho_list[-1][i,i])\n",
    "    print('%s %12.4f%12.4f' % (basis_labels[i], rho_ii, rho_ii/abs(rho_list[-1][i-1,i-1]) if i != 0 else 0))"
   ]
  },
  {
   "cell_type": "code",
   "execution_count": null,
   "id": "2c1a4299",
   "metadata": {},
   "outputs": [],
   "source": []
  }
 ],
 "metadata": {
  "kernelspec": {
   "display_name": "Python 3",
   "language": "python",
   "name": "python3"
  },
  "language_info": {
   "codemirror_mode": {
    "name": "ipython",
    "version": 3
   },
   "file_extension": ".py",
   "mimetype": "text/x-python",
   "name": "python",
   "nbconvert_exporter": "python",
   "pygments_lexer": "ipython3",
   "version": "3.9.5"
  }
 },
 "nbformat": 4,
 "nbformat_minor": 5
}
